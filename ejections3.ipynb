{
 "cells": [
  {
   "cell_type": "code",
   "execution_count": 1,
   "metadata": {},
   "outputs": [],
   "source": [
    "import pandas as pd\n",
    "\n",
    "ejections = pd.read_csv(\"ejections.csv\")"
   ]
  },
  {
   "cell_type": "markdown",
   "metadata": {},
   "source": [
    "Checking the number of ejections by inning, we will first look at only the standard nine innings guaranteed in most full-length games. <br><br> Some things to keep in mind: <br>(1) Many games end after only half of the ninth inning has been played if the home team is leading; <br>(2) Some games that are rained out will take as little as five innings to be considered \"official.\"<br><br> With this in mind, it appears as if the general trend is to see more ejections as the number of innings increase. The biggest outlier in this trend is the ninth inning, but that perhaps could be explained by (1).<br>Perhaps the increase in ejections per inning could be a factor of increasing tensions throughout the course of the game. With each inning that passes, the opportunities to make an impact dwindle while all participants might simultaneously start feeling more exhausted."
   ]
  },
  {
   "cell_type": "code",
   "execution_count": 3,
   "metadata": {},
   "outputs": [
    {
     "data": {
      "text/plain": [
       "INNING\n",
       "8    2763\n",
       "7    2610\n",
       "6    2280\n",
       "9    2098\n",
       "5    1917\n",
       "4    1688\n",
       "3    1517\n",
       "1    1270\n",
       "2    1129\n",
       "Name: count, dtype: int64"
      ]
     },
     "execution_count": 3,
     "metadata": {},
     "output_type": "execute_result"
    }
   ],
   "source": [
    "standard_innings = ejections[(ejections['INNING'] > 0) & (ejections['INNING'] < 10)]\n",
    "standard_innings['INNING'].value_counts()"
   ]
  },
  {
   "cell_type": "markdown",
   "metadata": {},
   "source": [
    "Unsurprisingly, since most games only feature nine innings, ejections in extra innings are rare, and generally become increasingly so as the odds of each game going into yet another inning decrease. Tensions and exhaustion are undoutedbly still high, though."
   ]
  },
  {
   "cell_type": "code",
   "execution_count": 4,
   "metadata": {},
   "outputs": [
    {
     "data": {
      "text/plain": [
       "INNING\n",
       "10    355\n",
       "11    178\n",
       "12     92\n",
       "13     44\n",
       "14     40\n",
       "15     12\n",
       "17      4\n",
       "16      4\n",
       "20      4\n",
       "19      2\n",
       "18      1\n",
       "Name: count, dtype: int64"
      ]
     },
     "execution_count": 4,
     "metadata": {},
     "output_type": "execute_result"
    }
   ],
   "source": [
    "extra_innings = ejections[ejections['INNING'] > 9]\n",
    "\n",
    "extra_innings['INNING'].value_counts()"
   ]
  }
 ],
 "metadata": {
  "kernelspec": {
   "display_name": "Python 3",
   "language": "python",
   "name": "python3"
  },
  "language_info": {
   "codemirror_mode": {
    "name": "ipython",
    "version": 3
   },
   "file_extension": ".py",
   "mimetype": "text/x-python",
   "name": "python",
   "nbconvert_exporter": "python",
   "pygments_lexer": "ipython3",
   "version": "3.11.4"
  },
  "orig_nbformat": 4
 },
 "nbformat": 4,
 "nbformat_minor": 2
}
